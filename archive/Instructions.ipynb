{
 "cells": [
  {
   "cell_type": "markdown",
   "id": "f172f066-7466-4bec-92de-a2cef4ac5ef8",
   "metadata": {},
   "source": [
    "# Overview\n",
    "document purpose: \n",
    "consolidation of project instructions "
   ]
  },
  {
   "cell_type": "markdown",
   "id": "7aef1b7a-54c5-4322-b11c-e31645e0da02",
   "metadata": {
    "jp-MarkdownHeadingCollapsed": true
   },
   "source": [
    "### Project Goal:\n",
    "\n",
    "PREDICT percent change in stock price after next earnings event for all company\n",
    "\n",
    "One record per earning event date per company.\n",
    "NEXT STEPS:\n",
    "\n",
    "- daily stock price data for all companies in provided set. High / Low, Open, Close for one year prior to earnings release date,\n",
    "    - get spread - 52 weeks, not earlier than OCT 2022. OPTIONAL :4 previous earnings events date \n",
    "    - Movement % change in stock price from last earnings event date\n",
    "- Need to find previous earnings events dates and their EPS - BUSOLA search market cammeleon and let brigitte know if need to investigate\n",
    "\n",
    "\n",
    "FUTURE:\n",
    "- Expected earnings (consensus) for later / future iterations.\n",
    "- congruence of direction / abnormal response - reliabliity of EPS\n"
   ]
  },
  {
   "cell_type": "markdown",
   "id": "4f1670a7-d592-41ba-9de9-ac16f0cc0531",
   "metadata": {},
   "source": [
    "# Data source Options Data"
   ]
  },
  {
   "cell_type": "markdown",
   "id": "9f6b3f96-82f5-4eb1-b593-473699dab02f",
   "metadata": {},
   "source": [
    "Data Source : Options data and greeks </br>\r\n",
    "These include OHLC , strike, and mainly thet</br>\n",
    "\r\n",
    "Source polygon.</br>i\n",
    "o\r\n",
    "Username: majorcontracts@gmail.</br>com\r\n",
    "Password: 8/r>g </br>\n",
    "\n",
    "uys\r\n",
    "To DO. None immediately but we want Calls and **Puts at the **money for the earliest/nearest e</br>tion \r\n"
   ]
  },
  {
   "cell_type": "markdown",
   "id": "6b1849e0-0085-43fe-88e0-7403e5db49d7",
   "metadata": {},
   "source": [
    "# Data Source earnings Date"
   ]
  },
  {
   "cell_type": "markdown",
   "id": "742a9c5d-ad72-484d-b755-55c03d7b5a5f",
   "metadata": {},
   "source": [
    "Data sources:  Earnings Date Data\n",
    "USE: To get the dates of earnings release so that we can filter stock bed on that </br>\n",
    "Data is attached</br>\n",
    "for 2023</br>\n",
    "I added 2 columns for the effective stock movement date (This date is the date where the stock earnings effect will show on the price. If it was premarket then it is the same date and if it was postmarket i.e. after the close of market then it is the next trading day. My excel column just put in the next day though it has to be next trading day. Most companies do not post on Friday afternoon but some sturbborn companies post then. Even tomorrow (a public holiday) has some releases.</br>\n",
    "Todo: Python code to Convert</br>\n",
    "Source: CSV </br> \n",
    "https://api.earningscalendar.net/confirmed_earnings?year=2023&api_key=6R__ekvBhI0FVUHnO5SI4A&format=csv\n",
    "\n",
    "SOURCE api(json):  https://api.earningscalendar.net/confirmed_earnings?year=2023&api_key=6R__ekvBhI0FVUHnO5SI4A&format=csv\n",
    "Format is from this page \n",
    "\n",
    "TO DO: </br>\n",
    "Todo: Python code to generate column for effective date in appropriate format. \n",
    "API KEY 6R__ekvBhI0FVUHnO5SI4A\n"
   ]
  },
  {
   "cell_type": "code",
   "execution_count": null,
   "id": "99416b3d-f308-4d6c-a3d8-e7a1e550a285",
   "metadata": {},
   "outputs": [],
   "source": []
  },
  {
   "cell_type": "markdown",
   "id": "489d2191-a589-49ea-b37b-a2559ca73629",
   "metadata": {},
   "source": [
    "# Data Source Historical Stock"
   ]
  },
  {
   "cell_type": "markdown",
   "id": "942d1155-c4b7-4663-8a16-d1e524059891",
   "metadata": {},
   "source": [
    "Data Source – historical stock prices for pre and post earnings</br>\r\n",
    "We need to get</br> \r\n",
    "-\tOpen\r\n",
    "-\tHigh\r\n",
    "-\tLow\r\n",
    "-\tEnd\r",
    "</br>\n",
    "To DO\r\n",
    "Approach either get all days from 2023 and then filter or Get dates involved and pull data for thos</br>e\n",
    "** dates\r\n",
    "Suggested Approach 1 </br>**Yfinance\r\n",
    "Source https://towardsdatascience.com/historical-stock-price-data-in-python-a0b6dc826836\r\n",
    "\r\n",
    "import p</br>andas as pd\r\n",
    "tickers_list = ['AAPL', 'WMT', 'IBM', 'MU', '</br>\n",
    "BA', 'AXP'] #Note from ticket list </br>\n",
    "\n",
    "**Fetch the data**</br>\n",
    "\n",
    "Fetch the data\r\n",
    "import yfinance as yf\r\n",
    "data = yf.download</br>(tickers_list,'2023-01-01', '2</br>023-12-31')['Adj Close']\r\n",
    "\r\n",
    "Alt Approach #2 alphavanta</br>ge\r\n",
    "To get all data from a time using alphavantage we use\r\n",
    "From here https://stackoverflow.com/questions/53681564/how-to</br>-extract-specific-time-pe</br>riod-from-alpha-vantage-in-python\r\n",
    "Loop through all symb</br>ols\r\n",
    "ts = TimeSeries (key=api_key, output_format = \"pandas\")\r\n",
    "data_daily, meta_data = t</br>s.get_daily_adjusted(symbol=stock_ticker, outputsize ='full')\r\n",
    "\r\n",
    "start_date = datetime.datetime(2023, 1, 1)\r\n",
    "end_date = datetime.datetime(2024, 02, 15)\r\n",
    "\r\n",
    "\r\n",
    "    # Create a filtered dataframe, and change the order it is displayed. \r\n",
    "date_filter = data_daily[(data_daily.index > start_date) & (data_daily.index <= end_date)]\r\n",
    "date_filter = date_filter.sort_index(ascending=True)\r\n",
    "\r\n",
    "Then you can filter by the date in the earning dates in the eaning dates file\r\n",
    "\r\n",
    "Alternatively, you can filter by date and pull the date in question for each stock\r\n",
    "Polygon is good for this\r\n",
    "\r\n"
   ]
  },
  {
   "cell_type": "markdown",
   "id": "91e5aa30-73ed-4f00-8907-046c537ffe22",
   "metadata": {},
   "source": [
    "# Data Source EPS Data"
   ]
  },
  {
   "cell_type": "markdown",
   "id": "a2cb052b-788f-4c29-8475-e442a17d3b86",
   "metadata": {},
   "source": [
    "Data Source EPS data – earnings per share for direction\r\n",
    "\r\n",
    "From here\r\n",
    "https://www.alphavantage.co/documentation/#earnings\r\n",
    "f\r\n",
    "TODO: \r\n",
    "1.\tNeed to loop over all tickers  in ticker list to get the earnings\r\n",
    "2.\tNeed to filter for\r\n",
    "a.\tOnly 2023\r\n",
    "b.\tOnly quarter i.e. \"quarterlyEarnings\": \r\n",
    "c.\tGet all columns i.e.\r\n",
    "i.\t            \"reportedDate\": \"2023-10-25\",\r\n",
    "ii.\t           \"reportedEPS\": \"2.2\",\r\n",
    "iii.\t\"estimatedEPS\": \"2.13\",\r\n",
    "iv.\t            \"surprise\": \"0.07\",\r\n",
    "v.\t\"surprisePercentage\": \"3.2864\"tage\": \"3.2864\"br>tage\": \"3.2864\"\r\n",
    "\r\n"
   ]
  },
  {
   "cell_type": "markdown",
   "id": "44244ab1-0118-47a0-a506-78c0732117bf",
   "metadata": {},
   "source": [
    "## Database Prep, and Script Development"
   ]
  },
  {
   "cell_type": "code",
   "execution_count": null,
   "id": "cfefb303-bd19-4499-8a7f-2194a993425b",
   "metadata": {},
   "outputs": [],
   "source": []
  },
  {
   "cell_type": "markdown",
   "id": "945123f9-10e6-411b-b51f-91e2c9f531ae",
   "metadata": {},
   "source": [
    "## Database Prep, and Script Development\r\n",
    "1.\tDatabase prep\r\n",
    "Our Database will be  mysq </br>l.\r\n",
    "Please upload all data pulled last week into different tables this database \r\n",
    "Data has to be uploaded to different tables on the database using either SQL syntax or more easily Toad for mysql v. 8  freeware. (Now I am aware that there are many beautiful no-code solutions starting with airtable, baserow, noco db, stackby, supabase  and so much more that can do the same thing with API support but I never wrote queries in them so I wont be able to advise on them. Meaning, if you want to use nocode alternatives you’re welcome to do so.\r\n",
    "Mysql Details are as follows\r\n",
    "datafor.mysql.database.azure.com\r\n",
    "user: admin1\r\n",
    "password:  Earn1ngs\r\n",
    "port 3306\r\n"
   ]
  },
  {
   "cell_type": "code",
   "execution_count": null,
   "id": "80c1c159-c800-423f-a211-fb80f6618423",
   "metadata": {},
   "outputs": [],
   "source": []
  }
 ],
 "metadata": {
  "kernelspec": {
   "display_name": "Python (lhl_midterm_env)",
   "language": "python",
   "name": "lhl_midterm_env"
  },
  "language_info": {
   "codemirror_mode": {
    "name": "ipython",
    "version": 3
   },
   "file_extension": ".py",
   "mimetype": "text/x-python",
   "name": "python",
   "nbconvert_exporter": "python",
   "pygments_lexer": "ipython3",
   "version": "3.9.18"
  }
 },
 "nbformat": 4,
 "nbformat_minor": 5
}
