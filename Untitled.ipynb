{
 "cells": [
  {
   "cell_type": "code",
   "execution_count": 3,
   "id": "799a0a05-d399-45fe-8faf-321c497668fb",
   "metadata": {},
   "outputs": [],
   "source": [
    "import pandas as pd\n",
    "\n",
    "# Sample DataFrame\n",
    "data = {'A': ['premarket', 'postmarket', 'premarket', 'postmarket'],\n",
    "        'B': ['2024-02-28', '2024-02-28', '2024-02-27', '2024-02-27'],\n",
    "        'C': ['2024-03-01', '2024-03-02', '2024-02-28', '2024-03-01']}\n",
    "df = pd.DataFrame(data)\n",
    "\n"
   ]
  },
  {
   "cell_type": "code",
   "execution_count": 4,
   "id": "3f8489d7-e684-4bc9-96b2-603c577ebce3",
   "metadata": {},
   "outputs": [
    {
     "data": {
      "text/html": [
       "<div>\n",
       "<style scoped>\n",
       "    .dataframe tbody tr th:only-of-type {\n",
       "        vertical-align: middle;\n",
       "    }\n",
       "\n",
       "    .dataframe tbody tr th {\n",
       "        vertical-align: top;\n",
       "    }\n",
       "\n",
       "    .dataframe thead th {\n",
       "        text-align: right;\n",
       "    }\n",
       "</style>\n",
       "<table border=\"1\" class=\"dataframe\">\n",
       "  <thead>\n",
       "    <tr style=\"text-align: right;\">\n",
       "      <th></th>\n",
       "      <th>A</th>\n",
       "      <th>B</th>\n",
       "      <th>C</th>\n",
       "    </tr>\n",
       "  </thead>\n",
       "  <tbody>\n",
       "    <tr>\n",
       "      <th>0</th>\n",
       "      <td>premarket</td>\n",
       "      <td>2024-02-28</td>\n",
       "      <td>2024-03-01</td>\n",
       "    </tr>\n",
       "    <tr>\n",
       "      <th>1</th>\n",
       "      <td>postmarket</td>\n",
       "      <td>2024-02-28</td>\n",
       "      <td>2024-03-02</td>\n",
       "    </tr>\n",
       "    <tr>\n",
       "      <th>2</th>\n",
       "      <td>premarket</td>\n",
       "      <td>2024-02-27</td>\n",
       "      <td>2024-02-28</td>\n",
       "    </tr>\n",
       "    <tr>\n",
       "      <th>3</th>\n",
       "      <td>postmarket</td>\n",
       "      <td>2024-02-27</td>\n",
       "      <td>2024-03-01</td>\n",
       "    </tr>\n",
       "  </tbody>\n",
       "</table>\n",
       "</div>"
      ],
      "text/plain": [
       "            A           B           C\n",
       "0   premarket  2024-02-28  2024-03-01\n",
       "1  postmarket  2024-02-28  2024-03-02\n",
       "2   premarket  2024-02-27  2024-02-28\n",
       "3  postmarket  2024-02-27  2024-03-01"
      ]
     },
     "execution_count": 4,
     "metadata": {},
     "output_type": "execute_result"
    }
   ],
   "source": [
    "df"
   ]
  },
  {
   "cell_type": "code",
   "execution_count": 5,
   "id": "0d453a45-3492-4a55-b910-e9d4f25af6ca",
   "metadata": {},
   "outputs": [
    {
     "name": "stdout",
     "output_type": "stream",
     "text": [
      "            A           B           C\n",
      "0   premarket  2024-02-28  2024-03-01\n",
      "1  postmarket  2024-03-02  2024-03-02\n",
      "2   premarket  2024-02-27  2024-02-28\n",
      "3  postmarket  2024-03-01  2024-03-01\n"
     ]
    }
   ],
   "source": [
    "# Replace values in Column B based on condition in Column A\n",
    "df.loc[df['A'] == 'postmarket', 'B'] = df['C']\n",
    "\n",
    "print(df)\n"
   ]
  },
  {
   "cell_type": "code",
   "execution_count": null,
   "id": "6bfa8a1f-5317-4f80-ad11-55b22e3c24d8",
   "metadata": {},
   "outputs": [],
   "source": []
  }
 ],
 "metadata": {
  "kernelspec": {
   "display_name": "Python (lhl_midterm_env)",
   "language": "python",
   "name": "lhl_midterm_env"
  },
  "language_info": {
   "codemirror_mode": {
    "name": "ipython",
    "version": 3
   },
   "file_extension": ".py",
   "mimetype": "text/x-python",
   "name": "python",
   "nbconvert_exporter": "python",
   "pygments_lexer": "ipython3",
   "version": "3.9.18"
  }
 },
 "nbformat": 4,
 "nbformat_minor": 5
}
